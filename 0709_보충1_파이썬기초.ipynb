{
  "nbformat": 4,
  "nbformat_minor": 0,
  "metadata": {
    "colab": {
      "provenance": [],
      "collapsed_sections": [
        "2flWi_XAIJk0"
      ],
      "include_colab_link": true
    },
    "kernelspec": {
      "name": "python3",
      "display_name": "Python 3"
    },
    "language_info": {
      "name": "python"
    }
  },
  "cells": [
    {
      "cell_type": "markdown",
      "metadata": {
        "id": "view-in-github",
        "colab_type": "text"
      },
      "source": [
        "<a href=\"https://colab.research.google.com/github/yonggaljjw/Data-analysis/blob/main/0709_%EB%B3%B4%EC%B6%A91_%ED%8C%8C%EC%9D%B4%EC%8D%AC%EA%B8%B0%EC%B4%88.ipynb\" target=\"_parent\"><img src=\"https://colab.research.google.com/assets/colab-badge.svg\" alt=\"Open In Colab\"/></a>"
      ]
    },
    {
      "cell_type": "markdown",
      "metadata": {
        "id": "d757e092"
      },
      "source": [
        "## 1. 딕셔너리 Dictionary\n",
        "\n",
        "- 키 Key와 값 Value를 한 쌍으로 갖는 자료형\n",
        "- 키는 중복될 수 없음, 값은 중복될 수 있음\n",
        "- 키를 통해 값을 반환 받을 수 있음"
      ]
    },
    {
      "cell_type": "markdown",
      "source": [
        "1. scores라는 이름의 빈 딕셔너리를 만들고 출력 후 타입을 확인주세요."
      ],
      "metadata": {
        "id": "gKKYgampuoTO"
      }
    },
    {
      "cell_type": "code",
      "source": [
        "scores = dict()"
      ],
      "metadata": {
        "id": "w2bG7YWj3b-C"
      },
      "execution_count": 1,
      "outputs": []
    },
    {
      "cell_type": "code",
      "source": [
        "type(scores)"
      ],
      "metadata": {
        "id": "D62zElPnC7l3",
        "colab": {
          "base_uri": "https://localhost:8080/"
        },
        "outputId": "8bac744d-d9d8-4d2f-8a32-ca4aa58351c7"
      },
      "execution_count": 2,
      "outputs": [
        {
          "output_type": "execute_result",
          "data": {
            "text/plain": [
              "dict"
            ]
          },
          "metadata": {},
          "execution_count": 2
        }
      ]
    },
    {
      "cell_type": "markdown",
      "source": [
        "2. scores 딕셔너리 안에 아래와 같이 과목과 점수가 대응되도록 값을 넣고 출력해주세요.\n",
        "- 자료구조 - 자료형은 같은 값이라도 용도에 따라 달라집니다.\n",
        "```\n",
        "영어 | 95\n",
        "수학 | 100\n",
        "국어 | 90\n",
        "과학 | 97\n",
        "사회 | 99\n",
        "```   \n"
      ],
      "metadata": {
        "id": "_oeX70t65xXe"
      }
    },
    {
      "cell_type": "code",
      "source": [
        "scores.update({'영어' : 95,\n",
        "               '수학' : 100,\n",
        "               '국어' : 90,\n",
        "               '과학' : 97,\n",
        "               '사회' : 99})\n",
        "scores"
      ],
      "metadata": {
        "id": "y1kKCF7e5kWY",
        "colab": {
          "base_uri": "https://localhost:8080/"
        },
        "outputId": "9e3f9ffd-788c-433a-a513-5ce4641b5867"
      },
      "execution_count": 4,
      "outputs": [
        {
          "output_type": "execute_result",
          "data": {
            "text/plain": [
              "{'영어': 95, '수학': 100, '국어': 90, '과학': 97, '사회': 99}"
            ]
          },
          "metadata": {},
          "execution_count": 4
        }
      ]
    },
    {
      "cell_type": "markdown",
      "source": [
        "3. scores 변수 안에 들어있는 과학 점수와 사회 점수만 따로 각각 확인해보세요."
      ],
      "metadata": {
        "id": "ueZwpAS-66FF"
      }
    },
    {
      "cell_type": "code",
      "source": [
        "scores['과학']"
      ],
      "metadata": {
        "id": "mL-M0BlT6uok",
        "colab": {
          "base_uri": "https://localhost:8080/"
        },
        "outputId": "78c16b2f-ba15-47b8-95e4-b6b971c8796c"
      },
      "execution_count": 5,
      "outputs": [
        {
          "output_type": "execute_result",
          "data": {
            "text/plain": [
              "97"
            ]
          },
          "metadata": {},
          "execution_count": 5
        }
      ]
    },
    {
      "cell_type": "code",
      "source": [
        "scores['사회']"
      ],
      "metadata": {
        "id": "PzQxWZ_ujjdh",
        "colab": {
          "base_uri": "https://localhost:8080/"
        },
        "outputId": "7029f49f-0151-443c-b504-119b4b4cd9f0"
      },
      "execution_count": 6,
      "outputs": [
        {
          "output_type": "execute_result",
          "data": {
            "text/plain": [
              "99"
            ]
          },
          "metadata": {},
          "execution_count": 6
        }
      ]
    },
    {
      "cell_type": "markdown",
      "source": [
        "4. scores 변수 안에서 과학 점수를 삭제 후 scores 변수를 출력해주세요."
      ],
      "metadata": {
        "id": "yDHUlV737NU9"
      }
    },
    {
      "cell_type": "code",
      "source": [
        "scores.pop('과학')"
      ],
      "metadata": {
        "id": "RjaQJiYykHnH",
        "colab": {
          "base_uri": "https://localhost:8080/"
        },
        "outputId": "503cd714-5fce-4b5a-8cb9-25927c2b903e"
      },
      "execution_count": 13,
      "outputs": [
        {
          "output_type": "execute_result",
          "data": {
            "text/plain": [
              "97"
            ]
          },
          "metadata": {},
          "execution_count": 13
        }
      ]
    },
    {
      "cell_type": "code",
      "source": [
        "scores"
      ],
      "metadata": {
        "id": "Qnu8np6kkWeS",
        "colab": {
          "base_uri": "https://localhost:8080/"
        },
        "outputId": "b26fe31e-b02e-4be0-ee95-80040846a240"
      },
      "execution_count": 14,
      "outputs": [
        {
          "output_type": "execute_result",
          "data": {
            "text/plain": [
              "{'영어': 95, '수학': 100, '국어': 90, '사회': 99}"
            ]
          },
          "metadata": {},
          "execution_count": 14
        }
      ]
    },
    {
      "cell_type": "markdown",
      "source": [
        "5. scores 변수 안에 물리 점수 90점을 추가 후 확인해주세요."
      ],
      "metadata": {
        "id": "gfj8y2rC-gSd"
      }
    },
    {
      "cell_type": "code",
      "source": [
        "scores.update({'물리' : 90})"
      ],
      "metadata": {
        "id": "vkV10-307hdu"
      },
      "execution_count": 15,
      "outputs": []
    },
    {
      "cell_type": "code",
      "source": [
        "scores"
      ],
      "metadata": {
        "id": "yZUl5mKm7Rd5",
        "colab": {
          "base_uri": "https://localhost:8080/"
        },
        "outputId": "dcedbc72-a87c-465a-8ade-c42b31c413a9"
      },
      "execution_count": 16,
      "outputs": [
        {
          "output_type": "execute_result",
          "data": {
            "text/plain": [
              "{'영어': 95, '수학': 100, '국어': 90, '사회': 99, '물리': 90}"
            ]
          },
          "metadata": {},
          "execution_count": 16
        }
      ]
    },
    {
      "cell_type": "markdown",
      "source": [
        "6. scores 변수의 국어 과목 점수를 98점으로 변경해주세요."
      ],
      "metadata": {
        "id": "yxb35ram-vyx"
      }
    },
    {
      "cell_type": "code",
      "source": [
        "scores['국어'] = 98\n",
        "scores['국어']"
      ],
      "metadata": {
        "id": "-KIJZjcB-2Ex",
        "colab": {
          "base_uri": "https://localhost:8080/"
        },
        "outputId": "3f5b9cf7-2c58-4c1e-bd10-2a8252784108"
      },
      "execution_count": 18,
      "outputs": [
        {
          "output_type": "execute_result",
          "data": {
            "text/plain": [
              "98"
            ]
          },
          "metadata": {},
          "execution_count": 18
        }
      ]
    },
    {
      "cell_type": "markdown",
      "source": [
        "7. 아래의 표에서, 이름을 키값으로, (수학, 영어) 점수 리스트를 딕셔너리의 값으로 저장해주세요. 딕셔너리의 이름은 scores로 합니다.\n",
        "```\n",
        "이름\t수학\t영어\n",
        "짱구\t90\t100\n",
        "짱아\t95\t97\n",
        "훈이\t98\t93\n",
        "```\n"
      ],
      "metadata": {
        "id": "hIUO6EQHBsl7"
      }
    },
    {
      "cell_type": "code",
      "source": [
        "scores = {'짱구' : (90, 100),\n",
        "          '짱아' : (95,97),\n",
        "          '훈이' : (98,93)}"
      ],
      "metadata": {
        "id": "r04rTWpomDwK"
      },
      "execution_count": 19,
      "outputs": []
    },
    {
      "cell_type": "code",
      "source": [
        "scores"
      ],
      "metadata": {
        "id": "85TrA0RbmKJi",
        "colab": {
          "base_uri": "https://localhost:8080/"
        },
        "outputId": "22f33a95-a804-4ea7-f28b-609dcfa05de8"
      },
      "execution_count": 20,
      "outputs": [
        {
          "output_type": "execute_result",
          "data": {
            "text/plain": [
              "{'짱구': (90, 100), '짱아': (95, 97), '훈이': (98, 93)}"
            ]
          },
          "metadata": {},
          "execution_count": 20
        }
      ]
    },
    {
      "cell_type": "markdown",
      "source": [
        "8. 아래 내용을 참조하셔서 scores 딕셔너리의 키값(이름)만, values값(수학, 영어점수들)만, 키:값 쌍을 각각 출력해보세요."
      ],
      "metadata": {
        "id": "JCgYws5RDwlW"
      }
    },
    {
      "cell_type": "markdown",
      "metadata": {
        "id": "b5711c8d"
      },
      "source": [
        "- 키 Key 혹은 값 Value 모두 반환하기\n",
        "    - keys() : 딕셔녀리의 키만 dict_keys 객체로 반환\n",
        "    - values() : 딕셔녀리의 값만 dict_values 객체로 반환\n",
        "    - items() : 딕셔너리의 키, 값 쌍으로 dict_items 객체로 반환"
      ]
    },
    {
      "cell_type": "code",
      "source": [
        "scores.keys()"
      ],
      "metadata": {
        "id": "CsP4PogbD-ZL",
        "colab": {
          "base_uri": "https://localhost:8080/"
        },
        "outputId": "b7c2a91b-bf95-4e09-aae5-b2a8b6815c60"
      },
      "execution_count": 21,
      "outputs": [
        {
          "output_type": "execute_result",
          "data": {
            "text/plain": [
              "dict_keys(['짱구', '짱아', '훈이'])"
            ]
          },
          "metadata": {},
          "execution_count": 21
        }
      ]
    },
    {
      "cell_type": "code",
      "source": [
        "scores.values()"
      ],
      "metadata": {
        "id": "vNjwdahLEBa9",
        "colab": {
          "base_uri": "https://localhost:8080/"
        },
        "outputId": "bffede2d-c425-43da-c129-9c10d0f56c63"
      },
      "execution_count": 22,
      "outputs": [
        {
          "output_type": "execute_result",
          "data": {
            "text/plain": [
              "dict_values([(90, 100), (95, 97), (98, 93)])"
            ]
          },
          "metadata": {},
          "execution_count": 22
        }
      ]
    },
    {
      "cell_type": "code",
      "source": [
        "scores.items()"
      ],
      "metadata": {
        "id": "Xz3dGVfDEDmG",
        "colab": {
          "base_uri": "https://localhost:8080/"
        },
        "outputId": "9dd0a49d-a747-4eb2-930e-2b533d930219"
      },
      "execution_count": 23,
      "outputs": [
        {
          "output_type": "execute_result",
          "data": {
            "text/plain": [
              "dict_items([('짱구', (90, 100)), ('짱아', (95, 97)), ('훈이', (98, 93))])"
            ]
          },
          "metadata": {},
          "execution_count": 23
        }
      ]
    },
    {
      "cell_type": "markdown",
      "source": [
        "9. 짱구의 수학점수, 훈이의 영어점수를 찾아서 각각 출력해주세요."
      ],
      "metadata": {
        "id": "BPoM9DNsDicX"
      }
    },
    {
      "cell_type": "code",
      "source": [
        "print('짱구의 수학점수는', scores['짱구'][0])"
      ],
      "metadata": {
        "id": "sKEictdMDHvM",
        "colab": {
          "base_uri": "https://localhost:8080/"
        },
        "outputId": "57b7f665-2832-4ce5-c789-09492d186453"
      },
      "execution_count": 24,
      "outputs": [
        {
          "output_type": "stream",
          "name": "stdout",
          "text": [
            "짱구의 수학점수는 90\n"
          ]
        }
      ]
    },
    {
      "cell_type": "code",
      "source": [
        "print('훈이의 영어점수는', scores['훈이'][1])"
      ],
      "metadata": {
        "id": "bcxxehRhDsbM",
        "colab": {
          "base_uri": "https://localhost:8080/"
        },
        "outputId": "51ffc1a4-f9a1-46d1-9d5d-c65150fa82b6"
      },
      "execution_count": 25,
      "outputs": [
        {
          "output_type": "stream",
          "name": "stdout",
          "text": [
            "훈이의 영어점수는 93\n"
          ]
        }
      ]
    },
    {
      "cell_type": "markdown",
      "source": [
        "10. scores 딕셔너리를 활용하여 위 딕셔너리의 학생이름만으로 구성된 students 리스트를 생성해주세요."
      ],
      "metadata": {
        "id": "iPqSP2S-H6ii"
      }
    },
    {
      "cell_type": "code",
      "source": [
        "students = list(scores.keys())\n",
        "students"
      ],
      "metadata": {
        "id": "tIAxUtwLFEUP",
        "colab": {
          "base_uri": "https://localhost:8080/"
        },
        "outputId": "dd0eea18-0f98-4d32-c9bc-70f434863eb9"
      },
      "execution_count": 28,
      "outputs": [
        {
          "output_type": "execute_result",
          "data": {
            "text/plain": [
              "['짱구', '짱아', '훈이']"
            ]
          },
          "metadata": {},
          "execution_count": 28
        }
      ]
    },
    {
      "cell_type": "markdown",
      "source": [
        "\n",
        "#### 12. 응답하라 1998\n",
        "- 휴대폰 번호 앞자리에 따라 통신사가 아래와 같이 구분되던 시절이 있었습니다. 사용자로부터 휴대전화 번호를 입력 받고, 통신사를 출력하는 프로그램을 작성해보세요. 입력받을 때 '-'기호는 넣거나 말거나 영향을 미치지 않습니다.\n",
        "\n",
        "- 힌트 :\n",
        "\n",
        "휴대전화번호 앞 3개 확인은 str도 배열(튜플)의 속성을 가지고 있다는 것을 활용합니다.\n",
        "\n",
        "\n",
        "~~~\n",
        "번호\t통신사\n",
        "011\tSKT\n",
        "016\tKT\n",
        "019\tLGU\n",
        "010\t알수없음\n"
      ],
      "metadata": {
        "id": "hNlvTfYnEVBX"
      }
    },
    {
      "cell_type": "code",
      "source": [
        "def solution(phone_number) :\n",
        "    x = phone_number[:3]\n",
        "    if x == '011':\n",
        "        return 'SKT'\n",
        "    elif x == '016' :\n",
        "        return 'KT'\n",
        "    elif x == '019' :\n",
        "        return 'LGU'\n",
        "    else :\n",
        "        return '알수없음'"
      ],
      "metadata": {
        "id": "OaZRKTiO1Czu"
      },
      "execution_count": 47,
      "outputs": []
    },
    {
      "cell_type": "code",
      "source": [
        "phone_number = '019-2142-3321'\n",
        "solution(phone_number)"
      ],
      "metadata": {
        "id": "2AlhEWVwI8wG",
        "colab": {
          "base_uri": "https://localhost:8080/",
          "height": 35
        },
        "outputId": "088e92b9-c99e-4ca2-fe57-2804b8926f63"
      },
      "execution_count": 31,
      "outputs": [
        {
          "output_type": "execute_result",
          "data": {
            "text/plain": [
              "'LGU'"
            ],
            "application/vnd.google.colaboratory.intrinsic+json": {
              "type": "string"
            }
          },
          "metadata": {},
          "execution_count": 31
        }
      ]
    },
    {
      "cell_type": "markdown",
      "source": [
        "#### 13. 한영사전 만들기\n",
        "\n",
        "아래의 fruits 딕셔너리를 참조하여\n",
        "- 사용자로부터 한글로 과일 이름을 입력받고\n",
        "- 사용자가 입력한 과일이 fruits 딕셔너리의 key값에 있을 경우 해당 key의 value 값을,\n",
        "- 없을 경우 '사전에 없는 단어입니다'를 출력하도록 프로그래밍하세요.\n",
        "```\n",
        "fruits = {'사과': 'Apple', '바나나': 'Banana', '딸기': 'Strawberry'}\n"
      ],
      "metadata": {
        "id": "OXEgavPpC-bd"
      }
    },
    {
      "cell_type": "code",
      "source": [
        "fruits = {'사과': 'Apple', '바나나': 'Banana', '딸기': 'Strawberry'}"
      ],
      "metadata": {
        "id": "0u539Oy_C0Xe"
      },
      "execution_count": 41,
      "outputs": []
    },
    {
      "cell_type": "code",
      "source": [
        "def solution2(x) :\n",
        "    return fruits.setdefault(x, '사전에 없는 단어입니다')"
      ],
      "metadata": {
        "id": "bHiD9RA7GKqM"
      },
      "execution_count": 43,
      "outputs": []
    },
    {
      "cell_type": "code",
      "source": [
        "solution2('수박')"
      ],
      "metadata": {
        "id": "cbddtd61Gfnm",
        "colab": {
          "base_uri": "https://localhost:8080/",
          "height": 35
        },
        "outputId": "e917191d-01e5-444d-ad79-133ec6a96a5b"
      },
      "execution_count": 45,
      "outputs": [
        {
          "output_type": "execute_result",
          "data": {
            "text/plain": [
              "'사전에 없는 단어입니다'"
            ],
            "application/vnd.google.colaboratory.intrinsic+json": {
              "type": "string"
            }
          },
          "metadata": {},
          "execution_count": 45
        }
      ]
    },
    {
      "cell_type": "markdown",
      "source": [
        "#### 14. 1의 통신사 문제도 딕셔너리 형태로 자료를 관리할 수 있을까요?"
      ],
      "metadata": {
        "id": "2flWi_XAIJk0"
      }
    },
    {
      "cell_type": "markdown",
      "source": [
        "```\n",
        "번호    통신사\n",
        "011    SKT\n",
        "016    KT\n",
        "019    LGU\n",
        "010    알수없음\n",
        "```\n",
        "- 같은 방법으로 바꾸면?"
      ],
      "metadata": {
        "id": "8HOLuYCeDAiv"
      }
    },
    {
      "cell_type": "code",
      "source": [
        "telecoms = {'011' : 'SKT',\n",
        "            '016' : 'KT',\n",
        "            '019' : 'LGU'}\n",
        "def solution(phone_number) :\n",
        "    return telecoms.setdefault(phone_number[:3], '알수없음')"
      ],
      "metadata": {
        "id": "VEdSVogMnxrz"
      },
      "execution_count": 46,
      "outputs": []
    }
  ]
}