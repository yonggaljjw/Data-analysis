{
 "cells": [
  {
   "cell_type": "markdown",
   "id": "47317dd6",
   "metadata": {
    "id": "47317dd6"
   },
   "source": [
    "# 웹 크롤링"
   ]
  },
  {
   "cell_type": "code",
   "execution_count": 1,
   "id": "GMBHTUK89AOy",
   "metadata": {
    "id": "GMBHTUK89AOy"
   },
   "outputs": [],
   "source": [
    "#!pip install selenium\n",
    "#!pip install webdriver_manager"
   ]
  },
  {
   "cell_type": "code",
   "execution_count": 2,
   "id": "a4d5af44",
   "metadata": {
    "colab": {
     "base_uri": "https://localhost:8080/",
     "height": 390
    },
    "executionInfo": {
     "elapsed": 1286,
     "status": "error",
     "timestamp": 1666261964182,
     "user": {
      "displayName": "Hyerin Jeon",
      "userId": "15435308017200416267"
     },
     "user_tz": -540
    },
    "id": "a4d5af44",
    "outputId": "02230fdd-2ed8-46e3-fbae-11740fd3d505"
   },
   "outputs": [],
   "source": [
    "import string\n",
    "import time, re\n",
    "import pandas as pd\n",
    "import requests\n",
    "import sys\n",
    "from tqdm import tqdm\n",
    "from datetime import datetime, timedelta\n",
    "from bs4 import BeautifulSoup\n",
    "\n",
    "from selenium import webdriver\n",
    "from selenium.webdriver.common.by import By\n",
    "from selenium.webdriver.common.keys import Keys\n",
    "from selenium.webdriver.chrome.service import Service\n",
    "from selenium.webdriver.chrome.options import Options\n",
    "from selenium.webdriver.common.action_chains import ActionChains\n",
    "from webdriver_manager.chrome import ChromeDriverManager\n",
    "from selenium.webdriver.support.ui import WebDriverWait\n",
    "from selenium.webdriver.support import expected_conditions as EC\n",
    "\n",
    "\n",
    "import warnings\n",
    "warnings.filterwarnings('ignore')"
   ]
  },
  {
   "cell_type": "code",
   "execution_count": 3,
   "id": "7ce127f7",
   "metadata": {
    "id": "7ce127f7"
   },
   "outputs": [],
   "source": [
    "options = webdriver.ChromeOptions() \n",
    "options.add_argument(\"--start-maximized\");  # Chrome 브라우저 최대화 설정\n",
    "#options.add_argument('--headless')  # headless 모드\n",
    "options.add_argument('--disable-gpu')  # 그래픽 가속 해제 (오류 방지)\n",
    "options.add_argument('--mute-audio')  # 음소거모드 적용\n",
    "options.add_experimental_option(\"excludeSwitches\", [\"enable-automation\"])\n",
    "options.add_experimental_option(\"useAutomationExtension\", False)"
   ]
  },
  {
   "cell_type": "code",
   "execution_count": 4,
   "id": "6139b420",
   "metadata": {
    "id": "6139b420"
   },
   "outputs": [],
   "source": [
    "cols = ['Exhibitor', 'Link']"
   ]
  },
  {
   "cell_type": "markdown",
   "id": "b7b604a5",
   "metadata": {
    "id": "b7b604a5"
   },
   "source": [
    "# 링크부터 크롤링"
   ]
  },
  {
   "cell_type": "code",
   "execution_count": null,
   "id": "de7dac07",
   "metadata": {},
   "outputs": [],
   "source": [
    "company_df = pd.DataFrame(columns = cols)\n",
    "\n",
    "NEWS_MAX_CNT = 24"
   ]
  },
  {
   "cell_type": "code",
   "execution_count": null,
   "id": "5e10ea25",
   "metadata": {
    "id": "5e10ea25",
    "outputId": "e4aa0f25-4a43-413d-9653-0524d8aa8d0b",
    "scrolled": true
   },
   "outputs": [],
   "source": [
    "exhibitors_df = pd.DataFrame(columns = cols)\n",
    "\n",
    "NEWS_MAX_CNT = 24\n",
    "try :\n",
    "    for pages in string.ascii_uppercase :\n",
    "        driver = webdriver.Chrome(service = Service(ChromeDriverManager().install()), options = options)\n",
    "\n",
    "        past_li = []\n",
    "        page_cnt = 1\n",
    "\n",
    "        while True :\n",
    "            li = []\n",
    "            \n",
    "            driver.get(f\"https://www.mwcbarcelona.com/exhibitors?letter={pages}&page={page_cnt}\")\n",
    "            time.sleep(1)\n",
    "            try : \n",
    "                driver.find_element(By.XPATH,'//*[@id=\"onetrust-accept-btn-handler\"]').click()\n",
    "            except :\n",
    "                pass\n",
    "            \n",
    "            names = driver.find_elements(By.CLASS_NAME, 'ais-Highlight-nonHighlighted')\n",
    "            links = driver.find_elements(By.CSS_SELECTOR, 'tr[role=\"link\"]')\n",
    "\n",
    "            for name, link in zip(names,links) :\n",
    "                if len(name.text) != 0 :\n",
    "                    li.append([name.text, link.get_attribute('data-href')])\n",
    "\n",
    "            if past_li == li :\n",
    "                break\n",
    "\n",
    "            temp_df = pd.DataFrame(li, columns = cols)\n",
    "\n",
    "            exhibitors_df = pd.concat([exhibitors_df, temp_df], ignore_index = True)\n",
    "\n",
    "            if len(li) < NEWS_MAX_CNT :\n",
    "                break\n",
    "\n",
    "            past_li = li\n",
    "            page_cnt += 1\n",
    "\n",
    "        driver.quit()\n",
    "except :\n",
    "    print('check')\n",
    "    driver.quit()\n",
    "    pass\n",
    "\n",
    "    exhibitors_df.drop_duplicates(['Exhibitor'], keep = 'first', inplace = True)\n",
    "\n",
    "    \n",
    "exhibitors_df"
   ]
  },
  {
   "cell_type": "code",
   "execution_count": null,
   "id": "817ffa1e",
   "metadata": {
    "id": "817ffa1e"
   },
   "outputs": [],
   "source": [
    "exhibitors_df.to_csv('crawling.csv', encoding='utf-8-sig')"
   ]
  },
  {
   "cell_type": "code",
   "execution_count": null,
   "id": "84469ec3",
   "metadata": {},
   "outputs": [],
   "source": []
  },
  {
   "cell_type": "code",
   "execution_count": null,
   "id": "eaffb29a",
   "metadata": {},
   "outputs": [],
   "source": [
    "exhibitors_df"
   ]
  },
  {
   "cell_type": "code",
   "execution_count": 6,
   "id": "ada35489",
   "metadata": {},
   "outputs": [
    {
     "data": {
      "text/html": [
       "<div>\n",
       "<style scoped>\n",
       "    .dataframe tbody tr th:only-of-type {\n",
       "        vertical-align: middle;\n",
       "    }\n",
       "\n",
       "    .dataframe tbody tr th {\n",
       "        vertical-align: top;\n",
       "    }\n",
       "\n",
       "    .dataframe thead th {\n",
       "        text-align: right;\n",
       "    }\n",
       "</style>\n",
       "<table border=\"1\" class=\"dataframe\">\n",
       "  <thead>\n",
       "    <tr style=\"text-align: right;\">\n",
       "      <th></th>\n",
       "      <th>Unnamed: 0</th>\n",
       "      <th>Exhibitor</th>\n",
       "      <th>Link</th>\n",
       "    </tr>\n",
       "  </thead>\n",
       "  <tbody>\n",
       "    <tr>\n",
       "      <th>0</th>\n",
       "      <td>0</td>\n",
       "      <td>ALAT</td>\n",
       "      <td>/exhibitors/28808-alat</td>\n",
       "    </tr>\n",
       "    <tr>\n",
       "      <th>1</th>\n",
       "      <td>1</td>\n",
       "      <td>A-Champs Interactive Training Solutions</td>\n",
       "      <td>/exhibitors/28761-a-champs-interactive-trainin...</td>\n",
       "    </tr>\n",
       "    <tr>\n",
       "      <th>2</th>\n",
       "      <td>2</td>\n",
       "      <td>A-INFO Inc</td>\n",
       "      <td>/exhibitors/28178-a-info-inc</td>\n",
       "    </tr>\n",
       "    <tr>\n",
       "      <th>3</th>\n",
       "      <td>3</td>\n",
       "      <td>AALTO HAPS Limited</td>\n",
       "      <td>/exhibitors/26673-aalto-haps-limited</td>\n",
       "    </tr>\n",
       "    <tr>\n",
       "      <th>4</th>\n",
       "      <td>4</td>\n",
       "      <td>Aava Mobile Oy - a Pepperl+Fuchs company</td>\n",
       "      <td>/exhibitors/27513-aava-mobile-oy-a-pepperl-fuc...</td>\n",
       "    </tr>\n",
       "    <tr>\n",
       "      <th>...</th>\n",
       "      <td>...</td>\n",
       "      <td>...</td>\n",
       "      <td>...</td>\n",
       "    </tr>\n",
       "    <tr>\n",
       "      <th>2401</th>\n",
       "      <td>2401</td>\n",
       "      <td>Zoundream SL</td>\n",
       "      <td>/exhibitors/27574-zoundream-sl</td>\n",
       "    </tr>\n",
       "    <tr>\n",
       "      <th>2402</th>\n",
       "      <td>2402</td>\n",
       "      <td>ZTE Corporation</td>\n",
       "      <td>/exhibitors/26781-zte-corporation</td>\n",
       "    </tr>\n",
       "    <tr>\n",
       "      <th>2403</th>\n",
       "      <td>2403</td>\n",
       "      <td>ZTT GROUP</td>\n",
       "      <td>/exhibitors/27027-ztt-group</td>\n",
       "    </tr>\n",
       "    <tr>\n",
       "      <th>2404</th>\n",
       "      <td>2404</td>\n",
       "      <td>Zubilabs</td>\n",
       "      <td>/exhibitors/28629-zubilabs</td>\n",
       "    </tr>\n",
       "    <tr>\n",
       "      <th>2405</th>\n",
       "      <td>2405</td>\n",
       "      <td>Zyxel Communications Corporation</td>\n",
       "      <td>/exhibitors/26817-zyxel-communications-corpora...</td>\n",
       "    </tr>\n",
       "  </tbody>\n",
       "</table>\n",
       "<p>2406 rows × 3 columns</p>\n",
       "</div>"
      ],
      "text/plain": [
       "      Unnamed: 0                                 Exhibitor  \\\n",
       "0              0                                      ALAT   \n",
       "1              1   A-Champs Interactive Training Solutions   \n",
       "2              2                                A-INFO Inc   \n",
       "3              3                        AALTO HAPS Limited   \n",
       "4              4  Aava Mobile Oy - a Pepperl+Fuchs company   \n",
       "...          ...                                       ...   \n",
       "2401        2401                              Zoundream SL   \n",
       "2402        2402                           ZTE Corporation   \n",
       "2403        2403                                 ZTT GROUP   \n",
       "2404        2404                                  Zubilabs   \n",
       "2405        2405          Zyxel Communications Corporation   \n",
       "\n",
       "                                                   Link  \n",
       "0                                /exhibitors/28808-alat  \n",
       "1     /exhibitors/28761-a-champs-interactive-trainin...  \n",
       "2                          /exhibitors/28178-a-info-inc  \n",
       "3                  /exhibitors/26673-aalto-haps-limited  \n",
       "4     /exhibitors/27513-aava-mobile-oy-a-pepperl-fuc...  \n",
       "...                                                 ...  \n",
       "2401                     /exhibitors/27574-zoundream-sl  \n",
       "2402                  /exhibitors/26781-zte-corporation  \n",
       "2403                        /exhibitors/27027-ztt-group  \n",
       "2404                         /exhibitors/28629-zubilabs  \n",
       "2405  /exhibitors/26817-zyxel-communications-corpora...  \n",
       "\n",
       "[2406 rows x 3 columns]"
      ]
     },
     "execution_count": 6,
     "metadata": {},
     "output_type": "execute_result"
    }
   ],
   "source": [
    "import pandas as pd\n",
    "\n",
    "exhibitors_df = pd.read_csv('crawling.csv')\n",
    "exhibitors_df"
   ]
  },
  {
   "cell_type": "code",
   "execution_count": null,
   "id": "eb933977",
   "metadata": {},
   "outputs": [],
   "source": []
  },
  {
   "cell_type": "code",
   "execution_count": null,
   "id": "a376f56a",
   "metadata": {
    "scrolled": true
   },
   "outputs": [],
   "source": [
    "driver = webdriver.Chrome(service = Service(ChromeDriverManager().install()), options = options)\n",
    "time.sleep(1)\n",
    "\n",
    "driver.get(\"https://www.mwcbarcelona.com/\" + exhibitors_df['Link'][3])\n",
    "time.sleep(1)\n",
    "\n",
    "driver.find_element(By.XPATH,'//*[@id=\"onetrust-accept-btn-handler\"]').click()\n",
    "time.sleep(1)\n",
    "\n",
    "web = driver.find_element(By.NAME, \"flex w-full md:w-1/3 pr-2\")\n",
    "print(web.get_attribute('href'))"
   ]
  },
  {
   "cell_type": "code",
   "execution_count": null,
   "id": "581498cf",
   "metadata": {},
   "outputs": [],
   "source": [
    "location = driver.find_elements(By.CSS_SELECTOR, '#exhibitor-container > aside > div:nth-child(1) > ul > a').text\n",
    "\n",
    "interest = []\n",
    "interests = driver.find_elements(By.CSS_SELECTOR, '.w-full.pb-4.mb-4.border-b.border-gray-300 ul.flex.flex-wrap li')\n",
    "for i in interests :\n",
    "    interest.append(i)"
   ]
  },
  {
   "cell_type": "code",
   "execution_count": null,
   "id": "6b4720f0",
   "metadata": {},
   "outputs": [],
   "source": []
  },
  {
   "cell_type": "code",
   "execution_count": 43,
   "id": "e81ef950",
   "metadata": {},
   "outputs": [
    {
     "data": {
      "text/plain": [
       "'https://www.mwcbarcelona.com//exhibitors/28808-alat'"
      ]
     },
     "execution_count": 43,
     "metadata": {},
     "output_type": "execute_result"
    }
   ],
   "source": [
    "url"
   ]
  },
  {
   "cell_type": "code",
   "execution_count": 49,
   "id": "f829b5ac",
   "metadata": {},
   "outputs": [],
   "source": [
    "url = \"https://www.mwcbarcelona.com/\" + exhibitors_df['Link'][3]\n",
    "response = requests.get(url)\n",
    "soup = BeautifulSoup(response.text, 'html.parser')"
   ]
  },
  {
   "cell_type": "code",
   "execution_count": 50,
   "id": "7c3e24f5",
   "metadata": {},
   "outputs": [
    {
     "data": {
      "text/plain": [
       "'Hall 4 Stand 4B25'"
      ]
     },
     "execution_count": 50,
     "metadata": {},
     "output_type": "execute_result"
    }
   ],
   "source": [
    "elements = soup.select('#exhibitor-container > aside > div:nth-child(1) > ul > a')\n",
    "\n",
    "location_list = [element.text.strip() for element in elements]\n",
    "location = ''.join(location_list)\n",
    "location"
   ]
  },
  {
   "cell_type": "code",
   "execution_count": 51,
   "id": "d0276bbb",
   "metadata": {},
   "outputs": [
    {
     "data": {
      "text/plain": [
       "'SYSTEMS INTEGRATION, NETWORK INFRASTRUCTURE, SATELLITE/NON TERRESTRIAL NETWORKS, CLIMATE/ENVIRONMENT/SUSTAINABILITY, MNO/MVNO'"
      ]
     },
     "execution_count": 51,
     "metadata": {},
     "output_type": "execute_result"
    }
   ],
   "source": [
    "elements = soup.select('#exhibitor-container > aside > div:nth-child(3) > ul > li')\n",
    "\n",
    "interest_list = [element.text.strip() for element in elements]\n",
    "interest_text = ', '.join(interest_list)\n",
    "interest_text"
   ]
  },
  {
   "cell_type": "code",
   "execution_count": null,
   "id": "10895de0",
   "metadata": {},
   "outputs": [],
   "source": []
  }
 ],
 "metadata": {
  "colab": {
   "provenance": []
  },
  "kernelspec": {
   "display_name": "Python 3 (ipykernel)",
   "language": "python",
   "name": "python3"
  },
  "language_info": {
   "codemirror_mode": {
    "name": "ipython",
    "version": 3
   },
   "file_extension": ".py",
   "mimetype": "text/x-python",
   "name": "python",
   "nbconvert_exporter": "python",
   "pygments_lexer": "ipython3",
   "version": "3.11.5"
  }
 },
 "nbformat": 4,
 "nbformat_minor": 5
}
